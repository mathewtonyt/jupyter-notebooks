{
 "cells": [
  {
   "cell_type": "markdown",
   "metadata": {},
   "source": [
    "# Parsing the splunk data"
   ]
  },
  {
   "cell_type": "code",
   "execution_count": 18,
   "metadata": {},
   "outputs": [
    {
     "name": "stderr",
     "output_type": "stream",
     "text": [
      "/Users/mtony/anaconda/lib/python3.6/site-packages/ipykernel_launcher.py:10: SettingWithCopyWarning: \n",
      "A value is trying to be set on a copy of a slice from a DataFrame.\n",
      "Try using .loc[row_indexer,col_indexer] = value instead\n",
      "\n",
      "See the caveats in the documentation: http://pandas.pydata.org/pandas-docs/stable/indexing.html#indexing-view-versus-copy\n",
      "  # Remove the CWD from sys.path while we load stuff.\n"
     ]
    },
    {
     "data": {
      "text/html": [
       "<div>\n",
       "<style>\n",
       "    .dataframe thead tr:only-child th {\n",
       "        text-align: right;\n",
       "    }\n",
       "\n",
       "    .dataframe thead th {\n",
       "        text-align: left;\n",
       "    }\n",
       "\n",
       "    .dataframe tbody tr th {\n",
       "        vertical-align: top;\n",
       "    }\n",
       "</style>\n",
       "<table border=\"1\" class=\"dataframe\">\n",
       "  <thead>\n",
       "    <tr style=\"text-align: right;\">\n",
       "      <th></th>\n",
       "      <th>id</th>\n",
       "      <th>timestamp</th>\n",
       "    </tr>\n",
       "  </thead>\n",
       "  <tbody>\n",
       "    <tr>\n",
       "      <th>0</th>\n",
       "      <td>b9e6d2e6-0dd3-4159-8b00-13492451dbb4</td>\n",
       "      <td>2018-03-22 20:35:16.224</td>\n",
       "    </tr>\n",
       "    <tr>\n",
       "      <th>1</th>\n",
       "      <td>b9e6d2e6-0dd3-4159-8b00-13492451dbb4</td>\n",
       "      <td>2018-03-22 20:35:16.218</td>\n",
       "    </tr>\n",
       "    <tr>\n",
       "      <th>2</th>\n",
       "      <td>ded1fe8f-a6c4-417f-9731-01a3d6fca8f6</td>\n",
       "      <td>2018-03-22 20:35:16.213</td>\n",
       "    </tr>\n",
       "    <tr>\n",
       "      <th>3</th>\n",
       "      <td>ded1fe8f-a6c4-417f-9731-01a3d6fca8f6</td>\n",
       "      <td>2018-03-22 20:35:16.208</td>\n",
       "    </tr>\n",
       "    <tr>\n",
       "      <th>4</th>\n",
       "      <td>3b5ce82e-9843-441e-a486-4c10234cfeea</td>\n",
       "      <td>2018-03-22 20:35:16.142</td>\n",
       "    </tr>\n",
       "    <tr>\n",
       "      <th>5</th>\n",
       "      <td>3b5ce82e-9843-441e-a486-4c10234cfeea</td>\n",
       "      <td>2018-03-22 20:35:16.139</td>\n",
       "    </tr>\n",
       "    <tr>\n",
       "      <th>6</th>\n",
       "      <td>92daf8be-f39a-44cc-9d78-523826f2bc42</td>\n",
       "      <td>2018-03-22 20:35:16.026</td>\n",
       "    </tr>\n",
       "    <tr>\n",
       "      <th>7</th>\n",
       "      <td>034530d4-1732-464d-8616-bfd238fa80b5</td>\n",
       "      <td>2018-03-22 20:35:16.024</td>\n",
       "    </tr>\n",
       "    <tr>\n",
       "      <th>8</th>\n",
       "      <td>92daf8be-f39a-44cc-9d78-523826f2bc42</td>\n",
       "      <td>2018-03-22 20:35:16.020</td>\n",
       "    </tr>\n",
       "    <tr>\n",
       "      <th>9</th>\n",
       "      <td>034530d4-1732-464d-8616-bfd238fa80b5</td>\n",
       "      <td>2018-03-22 20:35:16.015</td>\n",
       "    </tr>\n",
       "  </tbody>\n",
       "</table>\n",
       "</div>"
      ],
      "text/plain": [
       "                                     id               timestamp\n",
       "0  b9e6d2e6-0dd3-4159-8b00-13492451dbb4 2018-03-22 20:35:16.224\n",
       "1  b9e6d2e6-0dd3-4159-8b00-13492451dbb4 2018-03-22 20:35:16.218\n",
       "2  ded1fe8f-a6c4-417f-9731-01a3d6fca8f6 2018-03-22 20:35:16.213\n",
       "3  ded1fe8f-a6c4-417f-9731-01a3d6fca8f6 2018-03-22 20:35:16.208\n",
       "4  3b5ce82e-9843-441e-a486-4c10234cfeea 2018-03-22 20:35:16.142\n",
       "5  3b5ce82e-9843-441e-a486-4c10234cfeea 2018-03-22 20:35:16.139\n",
       "6  92daf8be-f39a-44cc-9d78-523826f2bc42 2018-03-22 20:35:16.026\n",
       "7  034530d4-1732-464d-8616-bfd238fa80b5 2018-03-22 20:35:16.024\n",
       "8  92daf8be-f39a-44cc-9d78-523826f2bc42 2018-03-22 20:35:16.020\n",
       "9  034530d4-1732-464d-8616-bfd238fa80b5 2018-03-22 20:35:16.015"
      ]
     },
     "execution_count": 18,
     "metadata": {},
     "output_type": "execute_result"
    }
   ],
   "source": [
    "import pandas as pd\n",
    "\n",
    "pd.set_option('display.max_colwidth', -1)\n",
    "\n",
    "df = pd.read_csv('/Users/mtony/Downloads/splunk_ces_data.csv')\n",
    "df.columns = ['id', 'timestamp']\n",
    "df1 = df.head(10)\n",
    "# df1['timestamp'] = df1['timestamp'].utcnow\n",
    "# df1.groupby(['id']).count()\n",
    "df1['timestamp'] = pd.to_datetime(df1['timestamp'])\n",
    "df1.groupby([\"id\"]).\n",
    "\n"
   ]
  }
 ],
 "metadata": {
  "kernelspec": {
   "display_name": "Python 3",
   "language": "python",
   "name": "python3"
  },
  "language_info": {
   "codemirror_mode": {
    "name": "ipython",
    "version": 3
   },
   "file_extension": ".py",
   "mimetype": "text/x-python",
   "name": "python",
   "nbconvert_exporter": "python",
   "pygments_lexer": "ipython3",
   "version": "3.6.1"
  }
 },
 "nbformat": 4,
 "nbformat_minor": 2
}
