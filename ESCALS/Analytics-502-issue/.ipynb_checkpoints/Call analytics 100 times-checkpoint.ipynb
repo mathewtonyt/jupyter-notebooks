{
 "cells": [
  {
   "cell_type": "markdown",
   "metadata": {},
   "source": [
    "### INT URL"
   ]
  },
  {
   "cell_type": "code",
   "execution_count": 5,
   "metadata": {},
   "outputs": [
    {
     "name": "stdout",
     "output_type": "stream",
     "text": [
      "403\n",
      "403\n",
      "403\n",
      "403\n",
      "403\n",
      "403\n",
      "403\n",
      "403\n",
      "403\n",
      "403\n"
     ]
    }
   ],
   "source": [
    "import requests\n",
    "\n",
    "# devstudies_inst_qaenv@cengagetest.com\n",
    "# Password1\n",
    "# -- make sure the user has access to course.\n",
    "\n",
    "def callAnalytics():\n",
    "    url = \"https://gradebook-api-int.cengage.info/devmathapi/ajax/reports/activity-report/soa:int:course:XRLA9TLB0QK2447NQ243/activity/soa:int:activity:WGNM3Q4N19Z3061FB175\"\n",
    "    headers = {\n",
    "        'cengage-sso-token': \"ED6209D566489BE773D4360AE5C66B024BF1FB2BBD01989B6182EFAFDB8C44D93E2645C27D1616FC5353DA2F74E0552970307A70C2F1AEAA49C7BE4C1B62711F380FC941B3261471\",\n",
    "        'cache-control': \"no-cache\",\n",
    "        'postman-token': \"7f5742fe-e4e2-9fba-d0c9-e6a8d763fb2b\"\n",
    "        }\n",
    "\n",
    "    response = requests.request(\"GET\", url, headers=headers)\n",
    "    print(response.status_code)\n",
    "    \n",
    "for loop in range(10):\n",
    "    callAnalytics()"
   ]
  },
  {
   "cell_type": "markdown",
   "metadata": {},
   "source": [
    "### STAGE url"
   ]
  },
  {
   "cell_type": "code",
   "execution_count": 6,
   "metadata": {},
   "outputs": [
    {
     "name": "stdout",
     "output_type": "stream",
     "text": [
      "500\n",
      "500\n",
      "500\n",
      "500\n",
      "500\n",
      "500\n",
      "500\n",
      "500\n",
      "500\n",
      "500\n"
     ]
    }
   ],
   "source": [
    "import requests\n",
    "\n",
    "# devstudies_inst_qaenv@cengagetest.com\n",
    "# Password1\n",
    "# -- make sure the user has access to course.\n",
    "\n",
    "def callAnalytics():\n",
    "    url = \"https://s-analytics-gradebook.cengage.com/devmathapi/ajax/reports/activity-report/soa:stage:course:PBHGPAGUATGWJ8MRG399/activity/soa:stage:activity:BHNKACKYM5B35NJ7M616\"\n",
    "    headers = {\n",
    "        'cengage-sso-token': \"E3FA67FFBBA887AEB389A83F6A7C0146CFE0BA59A74165F8BD2D7D1132585B366B0EED8D13DA3308DE541AF698C908D78DA20BFE2988930894BBF5E462086D7DECABF3E850160DDC\",\n",
    "        'cache-control': \"no-cache\",\n",
    "        'postman-token': \"7f5742fe-e4e2-9fba-d0c9-e6a8d763fb2b\"\n",
    "        }\n",
    "\n",
    "    response = requests.request(\"GET\", url, headers=headers)\n",
    "    print(response.status_code)\n",
    "    \n",
    "for loop in range(10):\n",
    "    callAnalytics()"
   ]
  }
 ],
 "metadata": {
  "kernelspec": {
   "display_name": "Python 3",
   "language": "python",
   "name": "python3"
  },
  "language_info": {
   "codemirror_mode": {
    "name": "ipython",
    "version": 3
   },
   "file_extension": ".py",
   "mimetype": "text/x-python",
   "name": "python",
   "nbconvert_exporter": "python",
   "pygments_lexer": "ipython3",
   "version": "3.6.1"
  }
 },
 "nbformat": 4,
 "nbformat_minor": 2
}
