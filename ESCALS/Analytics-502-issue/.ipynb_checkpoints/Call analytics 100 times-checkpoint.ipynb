{
 "cells": [
  {
   "cell_type": "code",
   "execution_count": 10,
   "metadata": {},
   "outputs": [
    {
     "name": "stdout",
     "output_type": "stream",
     "text": [
      "200\n",
      "200\n",
      "502\n",
      "200\n",
      "200\n",
      "200\n",
      "502\n",
      "200\n",
      "200\n",
      "200\n"
     ]
    }
   ],
   "source": [
    "import requests\n",
    "\n",
    "# devstudies_inst_qaenv@cengagetest.com\n",
    "# Password1\n",
    "# -- make sure the user has access to course.\n",
    "\n",
    "def callAnalytics():\n",
    "    url = \"https://gradebook-api-int.cengage.info/devmathapi/ajax/reports/activity-report/soa:int:course:XRLA9TLB0QK2447NQ243/activity/soa:int:activity:WGNM3Q4N19Z3061FB175\"\n",
    "    headers = {\n",
    "        'cengage-sso-token': \"73DB0764BCE5BFE42D3598329CE07218333F6B3E95E98C3552E1FCB7E7D415D12FA74273FB2207E456D28DAA716B84A52CA06D6DD73CD0DC663C29B07AF451265E70963EE0F0E2C4\",\n",
    "        'cache-control': \"no-cache\",\n",
    "        'postman-token': \"7f5742fe-e4e2-9fba-d0c9-e6a8d763fb2b\"\n",
    "        }\n",
    "\n",
    "    response = requests.request(\"GET\", url, headers=headers)\n",
    "    print(response.status_code)\n",
    "    \n",
    "for loop in range(10):\n",
    "    callAnalytics()"
   ]
  },
  {
   "cell_type": "code",
   "execution_count": null,
   "metadata": {
    "collapsed": true
   },
   "outputs": [],
   "source": []
  },
  {
   "cell_type": "code",
   "execution_count": null,
   "metadata": {
    "collapsed": true
   },
   "outputs": [],
   "source": []
  }
 ],
 "metadata": {
  "kernelspec": {
   "display_name": "Python 3",
   "language": "python",
   "name": "python3"
  },
  "language_info": {
   "codemirror_mode": {
    "name": "ipython",
    "version": 3
   },
   "file_extension": ".py",
   "mimetype": "text/x-python",
   "name": "python",
   "nbconvert_exporter": "python",
   "pygments_lexer": "ipython3",
   "version": "3.6.1"
  }
 },
 "nbformat": 4,
 "nbformat_minor": 2
}
