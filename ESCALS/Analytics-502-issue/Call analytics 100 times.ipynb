{
 "cells": [
  {
   "cell_type": "markdown",
   "metadata": {},
   "source": [
    "### INT URL"
   ]
  },
  {
   "cell_type": "code",
   "execution_count": 3,
   "metadata": {},
   "outputs": [
    {
     "name": "stdout",
     "output_type": "stream",
     "text": [
      "200\n",
      "200\n",
      "200\n",
      "200\n",
      "200\n",
      "200\n",
      "200\n",
      "200\n",
      "200\n",
      "200\n"
     ]
    }
   ],
   "source": [
    "import requests\n",
    "\n",
    "# devstudies_inst_qaenv@cengagetest.com\n",
    "# Password1\n",
    "# -- make sure the user has access to course.\n",
    "\n",
    "def callAnalytics():\n",
    "    url = \"https://gradebook-api-int.cengage.info/devmathapi/ajax/reports/activity-report/soa:int:course:XRLA9TLB0QK2447NQ243/activity/soa:int:activity:WGNM3Q4N19Z3061FB175\"\n",
    "    headers = {\n",
    "        'cengage-sso-token': \"F9B694142489BEA3A3D5D064E5FF4395BAFAD51D7FDCBCE60CB32EC724296CFE71EB1FF29E983040472C9B4508EC0C039BEC201D638625676B0CEAB0B68F797CC90ADA313E0B7E40\",\n",
    "        'cache-control': \"no-cache\",\n",
    "        'postman-token': \"7f5742fe-e4e2-9fba-d0c9-e6a8d763fb2b\"\n",
    "        }\n",
    "\n",
    "    response = requests.request(\"GET\", url, headers=headers)\n",
    "    print(response.status_code)\n",
    "    \n",
    "for loop in range(10):\n",
    "    callAnalytics()"
   ]
  },
  {
   "cell_type": "markdown",
   "metadata": {},
   "source": [
    "### STAGE url"
   ]
  },
  {
   "cell_type": "code",
   "execution_count": 6,
   "metadata": {},
   "outputs": [
    {
     "name": "stdout",
     "output_type": "stream",
     "text": [
      "500\n",
      "500\n",
      "500\n",
      "500\n",
      "500\n",
      "500\n",
      "500\n",
      "500\n",
      "500\n",
      "500\n"
     ]
    }
   ],
   "source": [
    "import requests\n",
    "\n",
    "# devstudies_inst_qaenv@cengagetest.com\n",
    "# Password1\n",
    "# -- make sure the user has access to course.\n",
    "\n",
    "def callAnalytics():\n",
    "    url = \"https://s-analytics-gradebook.cengage.com/devmathapi/ajax/reports/activity-report/soa:stage:course:PBHGPAGUATGWJ8MRG399/activity/soa:stage:activity:BHNKACKYM5B35NJ7M616\"\n",
    "    headers = {\n",
    "        'cengage-sso-token': \"E3FA67FFBBA887AEB389A83F6A7C0146CFE0BA59A74165F8BD2D7D1132585B366B0EED8D13DA3308DE541AF698C908D78DA20BFE2988930894BBF5E462086D7DECABF3E850160DDC\",\n",
    "        'cache-control': \"no-cache\",\n",
    "        'postman-token': \"7f5742fe-e4e2-9fba-d0c9-e6a8d763fb2b\"\n",
    "        }\n",
    "\n",
    "    response = requests.request(\"GET\", url, headers=headers)\n",
    "    print(response.status_code)\n",
    "    \n",
    "for loop in range(10):\n",
    "    callAnalytics()"
   ]
  },
  {
   "cell_type": "code",
   "execution_count": 5,
   "metadata": {},
   "outputs": [
    {
     "name": "stdout",
     "output_type": "stream",
     "text": [
      "500\n",
      "500\n"
     ]
    }
   ],
   "source": [
    "import requests\n",
    "\n",
    "# devstudies_inst_qaenv@cengagetest.com\n",
    "# Password1\n",
    "# -- make sure the user has access to course.\n",
    "\n",
    "def callAnalytics():\n",
    "    url = \"https://s-analytics-devmath.cengage.com/devmathapi/ajax/reports/activity-report/soa:performance:course:LSPHD0G7KZNDPDLV1241/activity/soa:performance:activity:HJLY436XTV114FVNT916\"\n",
    "    headers = {\n",
    "        'cengage-sso-token': \"234684D9E5ED31BE80374D3DFE630162B3A0C158E078E4668CF6562AE9B5E16F5C1293F5615DD64C8A1A0DA5518BCC7AC02E7100D4DEF11BEDD7BD1D1D71108C1B531ECC8CE4F45F\",\n",
    "        'cache-control': \"no-cache\",\n",
    "        'postman-token': \"7f5742fe-e4e2-9fba-d0c9-e6a8d763fb2b\"\n",
    "        }\n",
    "\n",
    "    response = requests.request(\"GET\", url, headers=headers)\n",
    "    print(response.status_code)\n",
    "    \n",
    "for loop in range(2):\n",
    "    callAnalytics()"
   ]
  },
  {
   "cell_type": "code",
   "execution_count": null,
   "metadata": {
    "collapsed": true
   },
   "outputs": [],
   "source": []
  }
 ],
 "metadata": {
  "kernelspec": {
   "display_name": "Python 3",
   "language": "python",
   "name": "python3"
  },
  "language_info": {
   "codemirror_mode": {
    "name": "ipython",
    "version": 3
   },
   "file_extension": ".py",
   "mimetype": "text/x-python",
   "name": "python",
   "nbconvert_exporter": "python",
   "pygments_lexer": "ipython3",
   "version": "3.6.1"
  }
 },
 "nbformat": 4,
 "nbformat_minor": 2
}
