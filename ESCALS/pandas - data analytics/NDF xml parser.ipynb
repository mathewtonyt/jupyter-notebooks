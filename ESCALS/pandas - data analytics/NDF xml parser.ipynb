{
 "cells": [
  {
   "cell_type": "code",
   "execution_count": 46,
   "metadata": {},
   "outputs": [
    {
     "data": {
      "text/html": [
       "<div>\n",
       "<style>\n",
       "    .dataframe thead tr:only-child th {\n",
       "        text-align: right;\n",
       "    }\n",
       "\n",
       "    .dataframe thead th {\n",
       "        text-align: left;\n",
       "    }\n",
       "\n",
       "    .dataframe tbody tr th {\n",
       "        vertical-align: top;\n",
       "    }\n",
       "</style>\n",
       "<table border=\"1\" class=\"dataframe\">\n",
       "  <thead>\n",
       "    <tr style=\"text-align: right;\">\n",
       "      <th></th>\n",
       "      <th>@id</th>\n",
       "      <th>common:activity-reference</th>\n",
       "      <th>common:delete-disabled</th>\n",
       "      <th>common:description</th>\n",
       "      <th>common:suppressed</th>\n",
       "      <th>common:title</th>\n",
       "      <th>navigation:next-node</th>\n",
       "      <th>navigation:node-type</th>\n",
       "      <th>navigation:previous-node</th>\n",
       "    </tr>\n",
       "  </thead>\n",
       "  <tbody>\n",
       "    <tr>\n",
       "      <th>0</th>\n",
       "      <td>KYYU6PRDS4XZKJ00F525</td>\n",
       "      <td>{'common:reference-id': 'KYYU6PRDS4XZKJ00F525'}</td>\n",
       "      <td>true</td>\n",
       "      <td>NaN</td>\n",
       "      <td>false</td>\n",
       "      <td>Prerequisite Assessment</td>\n",
       "      <td>EXEF9GKEMQ52XY7V6067</td>\n",
       "      <td>prerequisite</td>\n",
       "      <td>None</td>\n",
       "    </tr>\n",
       "    <tr>\n",
       "      <th>78</th>\n",
       "      <td>WAWP0YBAH1J7WLHR5718</td>\n",
       "      <td>{'common:reference-id': 'WAWP0YBAH1J7WLHR5718'}</td>\n",
       "      <td>NaN</td>\n",
       "      <td>NaN</td>\n",
       "      <td>false</td>\n",
       "      <td>test H/W</td>\n",
       "      <td>NaN</td>\n",
       "      <td>assignment</td>\n",
       "      <td>ZYAZJZXR1X29071PL999</td>\n",
       "    </tr>\n",
       "  </tbody>\n",
       "</table>\n",
       "</div>"
      ],
      "text/plain": [
       "                     @id                        common:activity-reference  \\\n",
       "0   KYYU6PRDS4XZKJ00F525  {'common:reference-id': 'KYYU6PRDS4XZKJ00F525'}   \n",
       "78  WAWP0YBAH1J7WLHR5718  {'common:reference-id': 'WAWP0YBAH1J7WLHR5718'}   \n",
       "\n",
       "   common:delete-disabled  common:description common:suppressed  \\\n",
       "0                    true                 NaN             false   \n",
       "78                    NaN                 NaN             false   \n",
       "\n",
       "               common:title  navigation:next-node navigation:node-type  \\\n",
       "0   Prerequisite Assessment  EXEF9GKEMQ52XY7V6067         prerequisite   \n",
       "78                 test H/W                   NaN           assignment   \n",
       "\n",
       "   navigation:previous-node  \n",
       "0                      None  \n",
       "78     ZYAZJZXR1X29071PL999  "
      ]
     },
     "execution_count": 46,
     "metadata": {},
     "output_type": "execute_result"
    }
   ],
   "source": [
    "# !pip install xmltodict\n",
    "import xmltodict\n",
    "import json \n",
    "import pandas as pd\n",
    "\n",
    "xml_data = open('/Users/mtony/Documents/brackets-docs/test.xml').read()\n",
    "ndfjson = json.loads(json.dumps(xmltodict.parse(xml_data)))\n",
    "childNodes = ndfjson['navigation:navigation']['navigation:children']['navigation:container']\n",
    "ds = pd.read_json(json.dumps(childNodes))\n",
    "ds[ds['navigation:next-node'].isnull() | ds['navigation:previous-node'].isnull()]\n"
   ]
  },
  {
   "cell_type": "code",
   "execution_count": null,
   "metadata": {
    "collapsed": true
   },
   "outputs": [],
   "source": []
  }
 ],
 "metadata": {
  "kernelspec": {
   "display_name": "Python 3",
   "language": "python",
   "name": "python3"
  },
  "language_info": {
   "codemirror_mode": {
    "name": "ipython",
    "version": 3
   },
   "file_extension": ".py",
   "mimetype": "text/x-python",
   "name": "python",
   "nbconvert_exporter": "python",
   "pygments_lexer": "ipython3",
   "version": "3.6.1"
  }
 },
 "nbformat": 4,
 "nbformat_minor": 2
}
