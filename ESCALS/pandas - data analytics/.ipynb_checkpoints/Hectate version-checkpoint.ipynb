{
 "cells": [
  {
   "cell_type": "code",
   "execution_count": 5,
   "metadata": {},
   "outputs": [
    {
     "data": {
      "text/html": [
       "<div>\n",
       "<style>\n",
       "    .dataframe thead tr:only-child th {\n",
       "        text-align: right;\n",
       "    }\n",
       "\n",
       "    .dataframe thead th {\n",
       "        text-align: left;\n",
       "    }\n",
       "\n",
       "    .dataframe tbody tr th {\n",
       "        vertical-align: top;\n",
       "    }\n",
       "</style>\n",
       "<table border=\"1\" class=\"dataframe\">\n",
       "  <thead>\n",
       "    <tr style=\"text-align: right;\">\n",
       "      <th></th>\n",
       "      <th>symbolicName</th>\n",
       "      <th>version</th>\n",
       "    </tr>\n",
       "  </thead>\n",
       "  <tbody>\n",
       "    <tr>\n",
       "      <th>263</th>\n",
       "      <td>com.savoirtech.hecate.annotation</td>\n",
       "      <td>2.0.8</td>\n",
       "    </tr>\n",
       "    <tr>\n",
       "      <th>354</th>\n",
       "      <td>com.savoirtech.hecate.core</td>\n",
       "      <td>2.0.8</td>\n",
       "    </tr>\n",
       "    <tr>\n",
       "      <th>355</th>\n",
       "      <td>com.savoirtech.hecate.pojo</td>\n",
       "      <td>2.0.8</td>\n",
       "    </tr>\n",
       "    <tr>\n",
       "      <th>356</th>\n",
       "      <td>com.savoirtech.hecate.gson</td>\n",
       "      <td>2.0.8</td>\n",
       "    </tr>\n",
       "  </tbody>\n",
       "</table>\n",
       "</div>"
      ],
      "text/plain": [
       "                         symbolicName version\n",
       "263  com.savoirtech.hecate.annotation   2.0.8\n",
       "354        com.savoirtech.hecate.core   2.0.8\n",
       "355        com.savoirtech.hecate.pojo   2.0.8\n",
       "356        com.savoirtech.hecate.gson   2.0.8"
      ]
     },
     "execution_count": 5,
     "metadata": {},
     "output_type": "execute_result"
    }
   ],
   "source": [
    "import requests, json\n",
    "import pandas as pd\n",
    "\n",
    "url='https://cas-devmath-int.cengage.info/services/tools/bundles/'\n",
    "\n",
    "response = requests.get(url)\n",
    "rjson = json.loads(response.content) \n",
    "data1 = pd.read_json(json.dumps(rjson['statuses']))\n",
    "data11 = data1[['symbolicName','version']]\n",
    "data12 = data11[data11.symbolicName.str.startswith('com.savoirtech.hecate')]\n",
    "data12\n"
   ]
  }
 ],
 "metadata": {
  "kernelspec": {
   "display_name": "Python 3",
   "language": "python",
   "name": "python3"
  },
  "language_info": {
   "codemirror_mode": {
    "name": "ipython",
    "version": 3
   },
   "file_extension": ".py",
   "mimetype": "text/x-python",
   "name": "python",
   "nbconvert_exporter": "python",
   "pygments_lexer": "ipython3",
   "version": "3.6.1"
  }
 },
 "nbformat": 4,
 "nbformat_minor": 2
}
