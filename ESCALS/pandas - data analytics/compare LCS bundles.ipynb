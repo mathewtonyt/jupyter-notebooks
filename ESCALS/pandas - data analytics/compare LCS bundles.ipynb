{
 "cells": [
  {
   "cell_type": "code",
   "execution_count": 41,
   "metadata": {},
   "outputs": [],
   "source": [
    "import requests, json\n",
    "import pandas as pd\n",
    "\n",
    "url='https://lcs-v2-int.cengage.info/services/tools/bundles/'\n",
    "url2='https://lcs-v2-stage.cengage.info/services/tools/bundles/'\n",
    "\n",
    "response = requests.get(url)\n",
    "rjson = json.loads(response.content) \n",
    "data1 = pd.read_json(json.dumps(rjson['statuses']))\n",
    "data11 = data1[['symbolicName','version']]\n",
    "data12 = data11[data11.symbolicName.str.startswith('com.cengage')]\n",
    "\n",
    "\n",
    "response2 = requests.get(url2)\n",
    "rjson2 = json.loads(response2.content) \n",
    "data2 = pd.read_json(json.dumps(rjson2['statuses']))\n",
    "data21 = data2[['symbolicName','version']]\n",
    "data22 = data21[data21.symbolicName.str.startswith('com.cengage')]\n",
    "\n",
    "# data12.append(data22, ignore_index=True)\n",
    "data3 = pd.merge(data22, data12, on='symbolicName', how='left', suffixes=('_left', '_right'))\n",
    "# data3 = pd.concat([data12, data22], axis=1, suffixes=('_left', '_right'))\n",
    "data3[data3.version_left != data3.version_right]\n",
    "data3.to_csv('/Users/mtony/Documents/brackets-docs/lcs-stage-int.csv', encoding='utf-8')\n"
   ]
  }
 ],
 "metadata": {
  "kernelspec": {
   "display_name": "Python 3",
   "language": "python",
   "name": "python3"
  },
  "language_info": {
   "codemirror_mode": {
    "name": "ipython",
    "version": 3
   },
   "file_extension": ".py",
   "mimetype": "text/x-python",
   "name": "python",
   "nbconvert_exporter": "python",
   "pygments_lexer": "ipython3",
   "version": "3.6.1"
  }
 },
 "nbformat": 4,
 "nbformat_minor": 2
}
