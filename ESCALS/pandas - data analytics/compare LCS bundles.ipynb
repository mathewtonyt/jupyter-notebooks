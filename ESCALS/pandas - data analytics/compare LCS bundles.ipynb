{
 "cells": [
  {
   "cell_type": "code",
   "execution_count": 7,
   "metadata": {
    "collapsed": true
   },
   "outputs": [],
   "source": [
    "import requests, json\n",
    "import pandas as pd\n",
    "\n",
    "url='https://lcs-v2-int.cengage.info/services/tools/bundles/'\n",
    "url2='https://lcs-v2-stage.cengage.info/services/tools/bundles/'\n",
    "\n",
    "response = requests.get(url)\n",
    "rjson = json.loads(response.content) \n",
    "data1 = pd.read_json(json.dumps(rjson['statuses']))\n",
    "data11 = data1[['symbolicName','version']]\n",
    "data12 = data11[data11.symbolicName.str.startswith('com.cengage')]\n",
    "\n",
    "\n",
    "response2 = requests.get(url2)\n",
    "rjson2 = json.loads(response2.content) \n",
    "data2 = pd.read_json(json.dumps(rjson2['statuses']))\n",
    "data21 = data2[['symbolicName','version']]\n",
    "data22 = data21[data21.symbolicName.str.startswith('com.cengage')]\n",
    "\n",
    "# data12.append(data22, ignore_index=True)\n",
    "data3 = pd.merge(data22, data12, on='symbolicName', how='left', suffixes=('_left', '_right'))\n",
    "# data3 = pd.concat([data12, data22], axis=1, suffixes=('_left', '_right'))\n",
    "data3[data3.version_left != data3.version_right]\n",
    "data3.to_csv('/Users/mtony/Documents/brackets-docs/lcs-stage-int.csv', encoding='utf-8')\n"
   ]
  },
  {
   "cell_type": "code",
   "execution_count": 1,
   "metadata": {},
   "outputs": [
    {
     "data": {
      "text/html": [
       "<div>\n",
       "<style>\n",
       "    .dataframe thead tr:only-child th {\n",
       "        text-align: right;\n",
       "    }\n",
       "\n",
       "    .dataframe thead th {\n",
       "        text-align: left;\n",
       "    }\n",
       "\n",
       "    .dataframe tbody tr th {\n",
       "        vertical-align: top;\n",
       "    }\n",
       "</style>\n",
       "<table border=\"1\" class=\"dataframe\">\n",
       "  <thead>\n",
       "    <tr style=\"text-align: right;\">\n",
       "      <th></th>\n",
       "      <th>symbolicName</th>\n",
       "      <th>version_left</th>\n",
       "      <th>name</th>\n",
       "      <th>bundleId_left</th>\n",
       "      <th>version_right</th>\n",
       "      <th>bundleId_right</th>\n",
       "    </tr>\n",
       "  </thead>\n",
       "  <tbody>\n",
       "    <tr>\n",
       "      <th>50</th>\n",
       "      <td>com.cengage.cas.devmath</td>\n",
       "      <td>1.4.0</td>\n",
       "      <td>CAS ::: Math ::: Support ::: Devmath</td>\n",
       "      <td>280</td>\n",
       "      <td>1.5.4</td>\n",
       "      <td>290</td>\n",
       "    </tr>\n",
       "    <tr>\n",
       "      <th>55</th>\n",
       "      <td>com.cengage.cas.devmath</td>\n",
       "      <td>1.5.4</td>\n",
       "      <td>CAS ::: Math ::: Support ::: Devmath</td>\n",
       "      <td>288</td>\n",
       "      <td>1.4.0</td>\n",
       "      <td>282</td>\n",
       "    </tr>\n",
       "  </tbody>\n",
       "</table>\n",
       "</div>"
      ],
      "text/plain": [
       "               symbolicName version_left  \\\n",
       "50  com.cengage.cas.devmath        1.4.0   \n",
       "55  com.cengage.cas.devmath        1.5.4   \n",
       "\n",
       "                                    name  bundleId_left version_right  \\\n",
       "50  CAS ::: Math ::: Support ::: Devmath            280         1.5.4   \n",
       "55  CAS ::: Math ::: Support ::: Devmath            288         1.4.0   \n",
       "\n",
       "    bundleId_right  \n",
       "50             290  \n",
       "55             282  "
      ]
     },
     "execution_count": 1,
     "metadata": {},
     "output_type": "execute_result"
    }
   ],
   "source": [
    "import requests, json\n",
    "import pandas as pd\n",
    "\n",
    "url='https://cas-devmath-int.cengage.info/services/tools/bundles/'\n",
    "url2='http://localhost:8181/services/tools/bundles/'\n",
    "\n",
    "response = requests.get(url)\n",
    "rjson = json.loads(response.content) \n",
    "data1 = pd.read_json(json.dumps(rjson['statuses']))\n",
    "data11 = data1[['symbolicName','version', 'bundleId']]\n",
    "data12 = data11[data11.symbolicName.str.startswith('com.cengage')]\n",
    "\n",
    "\n",
    "response2 = requests.get(url2)\n",
    "rjson2 = json.loads(response2.content) \n",
    "data2 = pd.read_json(json.dumps(rjson2['statuses']))\n",
    "data21 = data2[['symbolicName','version', 'name', 'bundleId']]\n",
    "data22 = data21[data21.symbolicName.str.startswith('com.cengage')]\n",
    "\n",
    "# data12.append(data22, ignore_index=True)\n",
    "data3 = pd.merge(data22, data12, on='symbolicName', how='left', suffixes=('_left', '_right'))\n",
    "# data3 = pd.concat([data12, data22], axis=1, suffixes=('_left', '_right'))\n",
    "\n",
    "data3[data3.version_left != data3.version_right]\n",
    "# data3.to_csv('/Users/mtony/Documents/brackets-docs/lcs-stage-int.csv', encoding='utf-8')"
   ]
  }
 ],
 "metadata": {
  "kernelspec": {
   "display_name": "Python 3",
   "language": "python",
   "name": "python3"
  },
  "language_info": {
   "codemirror_mode": {
    "name": "ipython",
    "version": 3
   },
   "file_extension": ".py",
   "mimetype": "text/x-python",
   "name": "python",
   "nbconvert_exporter": "python",
   "pygments_lexer": "ipython3",
   "version": "3.6.1"
  }
 },
 "nbformat": 4,
 "nbformat_minor": 2
}
