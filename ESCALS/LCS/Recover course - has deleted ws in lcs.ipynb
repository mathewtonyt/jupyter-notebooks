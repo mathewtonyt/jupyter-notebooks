{
 "cells": [
  {
   "cell_type": "markdown",
   "metadata": {},
   "source": [
    "### rollback the worskpace to a checkpoint"
   ]
  },
  {
   "cell_type": "code",
   "execution_count": null,
   "metadata": {
    "collapsed": true
   },
   "outputs": [],
   "source": [
    "import requests\n",
    "\n",
    "url = \"https://lcs-v2-int.cengage.info/services/lcs/v2/ws/workspaces/91afe927-6510-4bb1-8c0f-37891acdc057/checkpoints/565e0556-4fa5-44b0-82bd-4506b15249a3/rollback\"\n",
    "\n",
    "headers = {\n",
    "    'cengage-sso-guid': \"tester\",\n",
    "    'cache-control': \"no-cache\",\n",
    "    'postman-token': \"2163028f-a098-7596-7a04-24c509f1a84d\"\n",
    "    }\n",
    "\n",
    "response = requests.request(\"POST\", url, headers=headers)\n",
    "\n",
    "print(response.text)"
   ]
  },
  {
   "cell_type": "markdown",
   "metadata": {},
   "source": [
    "### create workspace from tags"
   ]
  },
  {
   "cell_type": "code",
   "execution_count": null,
   "metadata": {
    "collapsed": true
   },
   "outputs": [],
   "source": [
    "import requests\n",
    "\n",
    "url = \"https://lcs-v2-int.cengage.info/services/lcs/v2/ws/tags/c2fc1537-024d-400d-9fc7-96d921ebcf43/clone\"\n",
    "\n",
    "payload = \"{\\n  \\\"name\\\": \\\"AKKK1GM638FB5JX0Q620\\\",\\n  \\\"type\\\": \\\"variant\\\",\\n  \\\"listeners\\\": {},\\n  \\\"attributes\\\": {\\n    \\\"platform\\\": \\\"DEV-MATH\\\",\\n    \\\"parentWorkspaceId\\\": \\\"1b68af7f-7442-40b5-ab9c-d7e6a8f4a28b\\\",\\n    \\\"parentSourceTag\\\": \\\"c2fc1537-024d-400d-9fc7-96d921ebcf43\\\",\\n    \\\"courseKey\\\": \\\"MTPNXPQZNXQ0\\\",\\n    \\\"masterCdfCgi\\\": \\\"JENGTN4W61MUFZ5YY334\\\",\\n    \\\"masterWorkspaceId\\\": \\\"1b68af7f-7442-40b5-ab9c-d7e6a8f4a28b\\\",\\n    \\\"parentCdfCgi\\\": \\\"JENGTN4W61MUFZ5YY334\\\"\\n  }\\n}\"\n",
    "headers = {\n",
    "    'cache-control': \"no-cache\",\n",
    "    'cengage-sso-guid': \"cteolotitla\",\n",
    "    'content-type': \"application/json\",\n",
    "    'postman-token': \"62867dd4-6fdd-8aa6-b32d-c48794c36821\"\n",
    "    }\n",
    "\n",
    "response = requests.request(\"POST\", url, data=payload, headers=headers)\n",
    "\n",
    "print(response.text)"
   ]
  }
 ],
 "metadata": {
  "kernelspec": {
   "display_name": "Python 3",
   "language": "python",
   "name": "python3"
  },
  "language_info": {
   "codemirror_mode": {
    "name": "ipython",
    "version": 3
   },
   "file_extension": ".py",
   "mimetype": "text/x-python",
   "name": "python",
   "nbconvert_exporter": "python",
   "pygments_lexer": "ipython3",
   "version": "3.6.1"
  }
 },
 "nbformat": 4,
 "nbformat_minor": 2
}
