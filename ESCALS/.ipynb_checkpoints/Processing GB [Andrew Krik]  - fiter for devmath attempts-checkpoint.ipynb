{
 "cells": [
  {
   "cell_type": "code",
   "execution_count": 16,
   "metadata": {},
   "outputs": [
    {
     "name": "stdout",
     "output_type": "stream",
     "text": [
      "1b1ce12f-015b-1000-0003-d01ee2b01959 DEV-MATH LCZPU2WYCNV6KU9BE222\n",
      "Series\n",
      " 0    {'1b1ce12f-015b-1000-0003-d01ee2b01959': 'LCZP...\n",
      "dtype: object\n"
     ]
    }
   ],
   "source": [
    "# Algorithm :\n",
    "# 1. commented code loads a csv and convert csv -> json\n",
    "# 2. loop through the rows and pull out the attempt id and the courseKey\n",
    "# 3. hit ccs to filter for devmath platform\n",
    "\n",
    "import pydash as py_, json, requests\n",
    "import pandas as pd\n",
    "\n",
    "\n",
    "\n",
    "# filename = '/Users/mtony/Downloads/activity-take-modifications-20170913.csv'\n",
    "# # csv_file = pd.DataFrame(pd.read_csv(filename, sep=\",\", header=0, index_col=False))\n",
    "# csv_file.to_json(\"/Users/mtony/Downloads/new.json\", orient=\"records\", date_format=\"epoch\", double_precision=10,\n",
    "#                  force_ascii=True, date_unit=\"ms\", default_handler=None)\n",
    "\n",
    "json_result = []\n",
    "def getCourseInfo(courseKey, attemptId):\n",
    "    courseKey = courseKey.replace('soa:prod:course:', '')\n",
    "    attemptId = attemptId.replace('cas:attempt:', '')\n",
    "    baseurl = \"http://courseservices-v2.cengage.info/services/ccs/v2/courses/\"\n",
    "    try:\n",
    "        url = \"{0}{1}\".format(baseurl, courseKey)\n",
    "        result = requests.get(url)\n",
    "        ccsResponse = json.loads(result.content)\n",
    "        platform = ccsResponse[u'lineage']['platform']\n",
    "        if platform == \"DEV-MATH\":\n",
    "            print(\"{2} {1} {0}\".format(courseKey, platform, attemptId))\n",
    "            eachItem = {}\n",
    "            eachItem[attemptId] = courseKey\n",
    "            json_result.append(eachItem)\n",
    "            return courseKey\n",
    "        else:\n",
    "            return None\n",
    "    except:\n",
    "        print(\"Could not figure out: {0}\".format(courseKey))\n",
    "        return None\n",
    "\n",
    "\n",
    "with open(\"/Users/mtony/Downloads/new.json\") as json_file:\n",
    "    json_data = json.load(json_file)\n",
    "    py_.chain(json_data).map(lambda x: getCourseInfo(x[u'Course Uri'], x['Attempt URI'])).value()\n",
    "    data = pd.Series(json_result)\n",
    "    data\n",
    "    "
   ]
  },
  {
   "cell_type": "code",
   "execution_count": null,
   "metadata": {
    "collapsed": true
   },
   "outputs": [],
   "source": []
  }
 ],
 "metadata": {
  "kernelspec": {
   "display_name": "Python 3",
   "language": "python",
   "name": "python3"
  },
  "language_info": {
   "codemirror_mode": {
    "name": "ipython",
    "version": 3
   },
   "file_extension": ".py",
   "mimetype": "text/x-python",
   "name": "python",
   "nbconvert_exporter": "python",
   "pygments_lexer": "ipython3",
   "version": "3.6.1"
  }
 },
 "nbformat": 4,
 "nbformat_minor": 2
}
