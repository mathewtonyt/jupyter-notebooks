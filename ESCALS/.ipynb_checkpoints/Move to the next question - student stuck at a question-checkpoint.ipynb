{
 "cells": [
  {
   "cell_type": "code",
   "execution_count": 22,
   "metadata": {},
   "outputs": [
    {
     "name": "stdout",
     "output_type": "stream",
     "text": [
      "264a5840-015f-1000-0002-e5af780ed1f1\n",
      "doing a put request ===> {\"264a5840-015f-1000-0002-e5af780ed1f1\":\"[]\"}\n",
      " with url https://cas-devmath.cengage.info/services/cas/v2/attempts/22c4d378-015f-1000-0003-d66665667e6e/interactions/3092d249-015f-1000-0002-d66665667e6e/AYMpunTO ==> \n",
      "\n",
      "<Response [415]>\n"
     ]
    }
   ],
   "source": [
    "import requests,json,pydash as py_\n",
    "\n",
    "def getWhiteboardId(casModel):\n",
    "    stepsArray = casModel[u'ornaments'][0][u'activities'][0][u'steps']\n",
    "    currentQuestionArray = py_.chain(stepsArray).reject(lambda x: x[u'current'] != True).value()\n",
    "    # print(type(currentQuestionArray))\n",
    "    whiteboardId = currentQuestionArray[0][u'viewModel'][u'_variableBindings'][u'whiteboardState']\n",
    "    print(whiteboardId)\n",
    "    return whiteboardId\n",
    "    \n",
    "def putCAllForNextQuestion(url, whiteboardId):\n",
    "    payload = \"{\\\"%s\\\":\\\"[]\\\"}\" % whiteboardId\n",
    "    headers = {\n",
    "        'cache-control': \"no-cache\",\n",
    "        'postman-token': \"391fd4c1-9eaf-3379-7f2e-ce7cfe95fa9c\"\n",
    "        }\n",
    "    print(\"doing a put request ===> {0}\".format(payload))\n",
    "    print(\" with url {0} ==> \".format(url))\n",
    "    response = requests.request(\"PUT\", url, data=payload, headers=headers)\n",
    "    print(response.text)\n",
    "    print(response)\n",
    "\n",
    "def getAttemptAndCallNextQuestion(attemptId):\n",
    "    url = \"https://cas-devmath.cengage.info/services/cas/v2/attempts/\" + attemptId\n",
    "    headers = {\n",
    "        'cache-control': \"no-cache\",\n",
    "        'postman-token': \"f667748a-ba75-cf59-74a6-56ede32c0201\"\n",
    "        }\n",
    "    response = requests.request(\"GET\", url, headers=headers)\n",
    "    jsonParesed = json.loads(response.content)\n",
    "    urlToHit = jsonParesed[u'ornaments'][0][u'actions'][0][u'href']\n",
    "    whiteboardId = getWhiteboardId(jsonParesed)\n",
    "    #print(urlToHit, whiteboardId)\n",
    "    putCAllForNextQuestion(urlToHit, whiteboardId)    \n",
    "    \n",
    "## calling with the actual attempt    \n",
    "getAttemptAndCallNextQuestion('22c4d378-015f-1000-0003-d66665667e6e');\n"
   ]
  },
  {
   "cell_type": "code",
   "execution_count": 23,
   "metadata": {},
   "outputs": [
    {
     "name": "stdout",
     "output_type": "stream",
     "text": [
      "doing a put request ===> {\"2c36ed76-015f-1000-0002-722f8bc60d78\":\"[]\"}\n",
      " with url https://devmath-dev.cengage.info/cengage-devmath/services/cas/services/cas/v2/attempts/05174734-015f-1000-0002-a7ccd4aeaa18/interactions/2fe0f5d1-015f-1000-0002-24af51877c76/uHEVuYmV ==> \n",
      "\n",
      "<Response [401]>\n"
     ]
    }
   ],
   "source": [
    "import requests,json,pydash as py_\n",
    "\n",
    "def getWhiteboardId(casModel):\n",
    "    stepsArray = casModel[u'ornaments'][0][u'activities'][0][u'steps']\n",
    "    currentQuestionArray = py_.chain(stepsArray).reject(lambda x: x[u'current'] != True).value()\n",
    "    # print(type(currentQuestionArray))\n",
    "    whiteboardId = currentQuestionArray[0][u'viewModel'][u'_variableBindings'][u'whiteboardState']\n",
    "    print(whiteboardId)\n",
    "    return whiteboardId\n",
    "    \n",
    "def putCAllForNextQuestion(url, whiteboardId):\n",
    "    payload = \"{\\\"%s\\\":\\\"[]\\\"}\" % whiteboardId\n",
    "    headers = {\n",
    "        'cache-control': \"no-cache\",\n",
    "        'postman-token': \"391fd4c1-9eaf-3379-7f2e-ce7cfe95fa9c\"\n",
    "        }\n",
    "    print(\"doing a put request ===> {0}\".format(payload))\n",
    "    print(\" with url {0} ==> \".format(url))\n",
    "    response = requests.request(\"PUT\", url, data=payload, headers=headers)\n",
    "    print(response.text)\n",
    "    print(response)\n",
    "\n",
    "url = \"https://devmath-dev.cengage.info/cengage-devmath/services/cas/services/cas/v2/attempts/05174734-015f-1000-0002-a7ccd4aeaa18/interactions/2fe0f5d1-015f-1000-0002-24af51877c76/uHEVuYmV\"    \n",
    "putCAllForNextQuestion(url,\"2c36ed76-015f-1000-0002-722f8bc60d78\")"
   ]
  }
 ],
 "metadata": {
  "kernelspec": {
   "display_name": "Python 3",
   "language": "python",
   "name": "python3"
  },
  "language_info": {
   "codemirror_mode": {
    "name": "ipython",
    "version": 3
   },
   "file_extension": ".py",
   "mimetype": "text/x-python",
   "name": "python",
   "nbconvert_exporter": "python",
   "pygments_lexer": "ipython3",
   "version": "3.6.1"
  }
 },
 "nbformat": 4,
 "nbformat_minor": 2
}
