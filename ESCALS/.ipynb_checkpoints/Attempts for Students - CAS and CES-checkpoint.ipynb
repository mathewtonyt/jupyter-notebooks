{
 "cells": [
  {
   "cell_type": "code",
   "execution_count": 10,
   "metadata": {
    "collapsed": true
   },
   "outputs": [],
   "source": [
    "import requests\n",
    "\n",
    "def httpGETAndLog(url):\n",
    "    result = requests.get(url)\n",
    "    print(\"code : {0}\\nmessage : {1}\".format(result.status_code, result.text))\n",
    "    \n",
    "\n",
    "def httpPOSTAndLog(url, payload, headers):\n",
    "    result = requests.post(url,json=payload, headers=headers)\n",
    "    return result\n",
    "    #print(\"code : {0}\\nmessage : {1}\".format(result.status_code, result.text))    "
   ]
  },
  {
   "cell_type": "code",
   "execution_count": null,
   "metadata": {},
   "outputs": [],
   "source": [
    "## \n",
    "# 1. get the attempts from the CES for the assignment and course\n",
    "# 2. pluck the id of ces record and then display each id - you can pluck any field\n",
    "#\n",
    "import pydash as py_, json\n",
    "#from IPython.display import display\n",
    "import pandas as pd\n",
    "\n",
    "\n",
    "url = \"https://ces-aws.cengage.info/services/dataservice/devmath/attemptcollection/\"\n",
    "\n",
    "payload = {\n",
    "    \"from\": 0,\n",
    "    \"size\": 100,\n",
    "    \"query\": {\n",
    "        \"query_string\": {\n",
    "            \"query\": \"assignmentId:UTMEA5HKZRPY4HB9T194 AND courseId:FYJBL05X37DKGMDNC190\"\n",
    "        }\n",
    "    }\n",
    "}\n",
    "headers = {\n",
    "    'ces-environment': \"prod\",\n",
    "    'content-type': \"application/json+search\",\n",
    "    'ces-document': \"full\"\n",
    "    }\n",
    "\n",
    "response = httpPOSTAndLog(url, payload, headers)\n",
    "jsonParesed = json.loads(response.content)\n",
    "listOfGuid = py_.chain(jsonParesed[u'results']).map(lambda x: x[u'document'][u'id']).value()\n",
    "pd.read\n",
    "    "
   ]
  },
  {
   "cell_type": "code",
   "execution_count": null,
   "metadata": {
    "collapsed": true
   },
   "outputs": [],
   "source": []
  }
 ],
 "metadata": {
  "kernelspec": {
   "display_name": "Python 3",
   "language": "python",
   "name": "python3"
  },
  "language_info": {
   "codemirror_mode": {
    "name": "ipython",
    "version": 3
   },
   "file_extension": ".py",
   "mimetype": "text/x-python",
   "name": "python",
   "nbconvert_exporter": "python",
   "pygments_lexer": "ipython3",
   "version": "3.6.1"
  }
 },
 "nbformat": 4,
 "nbformat_minor": 2
}
