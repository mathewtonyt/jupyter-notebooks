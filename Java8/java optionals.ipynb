{
 "cells": [
  {
   "cell_type": "code",
   "execution_count": 1,
   "metadata": {
    "collapsed": false
   },
   "outputs": [
    {
     "name": "stdout",
     "output_type": "stream",
     "text": [
      "test\n"
     ]
    }
   ],
   "source": [
    "System.out.println(\"test\");"
   ]
  },
  {
   "cell_type": "code",
   "execution_count": 2,
   "metadata": {
    "collapsed": false
   },
   "outputs": [
    {
     "ename": "\u001b[0;31mpackage org.apache.commons.lang3 does not exist\u001b[0;31m",
     "evalue": "\u001b[0;31mpackage org.apache.commons.lang3 does not exist\u001b[0;31m",
     "output_type": "error",
     "traceback": [
      "\u001b[0;31mpackage org.apache.commons.lang3 does not exist\u001b[0;31m",
      "\u001b[0;31mimport org.apache.commons.lang3.StringUtils;\u001b[0;31m",
      "\u001b[0;31m       ^^^^^^^^^^^^^^^^^^^^^^^^*^^^^^^^^^^^ \u001b[0;31m"
     ]
    }
   ],
   "source": [
    "import org.apache.commons.lang3.StringUtils;\n",
    "\n",
    "private  static Optional<String> getWorkspaceInfoForCourseKey(String input){\n",
    "        return Optional.of(\"test1\" + input);\n",
    "    }\n",
    "\n",
    "    public static void main(String[] args) {\n",
    "\n",
    "        // setup\n",
    "        List<String> workspaceInfoList = new ArrayList<>();\n",
    "        List<String> courseKeys = Arrays.asList(\"course1\", \"course2\");\n",
    "\n",
    "\n",
    "        // actual code\n",
    "        for (String courseKey : courseKeys)\n",
    "\n",
    "        {\n",
    "            if (StringUtils.isNotBlank(courseKey)) {\n",
    "                System.out.println(\"reached here\");\n",
    "                Optional<String> workspaceInfo = getWorkspaceInfoForCourseKey(courseKey);\n",
    "\n",
    "                workspaceInfo.ifPresent(workspaceInfoList::add);\n",
    "                System.out.println(workspaceInfo);\n",
    "                // TODO - MT : what is the else condition - log the value lcsService.getWorkspaceInfoForCourseKey(courseKey).ifPresent(workspaceInfoList::add);\n",
    "            }\n",
    "        }\n",
    "    }"
   ]
  }
 ],
 "metadata": {
  "kernelspec": {
   "display_name": "Java 9",
   "language": "java",
   "name": "java"
  },
  "language_info": {
   "file_extension": ".class",
   "mimetype": "application/java-vm",
   "name": "java",
   "version": "1.9.0-ea"
  }
 },
 "nbformat": 4,
 "nbformat_minor": 2
}
