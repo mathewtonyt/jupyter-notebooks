{
 "cells": [
  {
   "cell_type": "code",
   "execution_count": 1,
   "metadata": {},
   "outputs": [
    {
     "name": "stdout",
     "output_type": "stream",
     "text": [
      "test\n"
     ]
    },
    {
     "data": {
      "text/plain": [
       "No Outputs"
      ]
     },
     "execution_count": 1,
     "metadata": {},
     "output_type": "execute_result"
    }
   ],
   "source": [
    "System.out.println(\"test\");"
   ]
  },
  {
   "cell_type": "code",
   "execution_count": 3,
   "metadata": {},
   "outputs": [
    {
     "name": "stdout",
     "output_type": "stream",
     "text": [
      "reached here\n",
      "[]\n",
      "Optional[test1course1]\n",
      "reached here\n",
      "[]\n",
      "Optional[test1course2]\n"
     ]
    },
    {
     "data": {
      "text/plain": [
       "No Outputs"
      ]
     },
     "execution_count": 3,
     "metadata": {},
     "output_type": "execute_result"
    }
   ],
   "source": [
    "import org.apache.commons.lang3.StringUtils;\n",
    "\n",
    "// setup \n",
    "List<String> workspaceInfoList = new ArrayList<>();\n",
    "workspaceInfoList = [];\n",
    "List<String> courseKeys = [\"course1\", \"course2\"];\n",
    "private Optional<String> getWorkspaceInfoForCourseKey(String input) {\n",
    "    return Optional.of(\"test1\" + input);\n",
    "}\n",
    "\n",
    "// actual code\n",
    "\n",
    "for (String courseKey : courseKeys) {\n",
    "    if (StringUtils.isNotBlank(courseKey)) {\n",
    "        System.out.println(\"reached here\");\n",
    "        Optional<String> workspaceInfo = getWorkspaceInfoForCourseKey(courseKey);\n",
    "        System.out.println(workspaceInfoList);\n",
    "\n",
    "           //workspaceInfo.ifPresent(workspaceInfoList::push);\n",
    "        System.out.println(workspaceInfo);\n",
    "        // TODO - MT : what is the else condition - log the value lcsService.getWorkspaceInfoForCourseKey(courseKey).ifPresent(workspaceInfoList::add);\n",
    "    }\n",
    "}"
   ]
  },
  {
   "cell_type": "code",
   "execution_count": null,
   "metadata": {
    "collapsed": true
   },
   "outputs": [],
   "source": []
  }
 ],
 "metadata": {
  "kernelspec": {
   "display_name": "SciJava",
   "language": "groovy",
   "name": "scijava"
  },
  "language_info": {
   "codemirror_mode": "groovy",
   "file_extension": "",
   "mimetype": "",
   "name": "scijava",
   "nbconverter_exporter": "",
   "pygments_lexer": "groovy",
   "version": "1.0"
  }
 },
 "nbformat": 4,
 "nbformat_minor": 2
}
