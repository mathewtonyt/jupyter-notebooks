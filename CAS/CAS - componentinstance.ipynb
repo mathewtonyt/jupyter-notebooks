{
 "cells": [
  {
   "cell_type": "code",
   "execution_count": 65,
   "metadata": {
    "collapsed": true
   },
   "outputs": [],
   "source": [
    "def process_attemptreview(payload):\n",
    "    try:\n",
    "        payloadJson = json.loads(payload)\n",
    "        jsonObject = json.loads(payloadJson.get('payload'))\n",
    "\n",
    "        global attemptreview_df\n",
    "        completed = jsonObject.get('completed', None)\n",
    "        summary = jsonObject.get('summary')\n",
    "        isSbs = None\n",
    "        started = None\n",
    "        startTime = jsonObject.get('startTime', None)\n",
    "        if summary != None:\n",
    "            isSbs = summary.get('stepByStepHelpEnabled')\n",
    "            started = summary.get('started', None)\n",
    "\n",
    "        attemptTreePath = jsonObject.get('attemptTreePath', None)\n",
    "\n",
    "        attemptreview_df = attemptreview_df.append([{'type': jsonObject[u'type'],\n",
    "                                         'id': jsonObject[u'id'],\n",
    "                                         'scored': jsonObject[u'scored'],\n",
    "                                         'cgid': jsonObject[u'cgid'],\n",
    "                                         'completed': completed,\n",
    "                                         'isSbs': isSbs,\n",
    "                                         'started': started,\n",
    "                                         'startTime': startTime,\n",
    "                                         'attemptTreePath': attemptTreePath,\n",
    "                                         'duedate': jsonObject['initParams'][u'dueDate']\n",
    "                                         }], ignore_index=True)\n",
    "    except ValueError:\n",
    "        print(\"error\")"
   ]
  },
  {
   "cell_type": "code",
   "execution_count": 61,
   "metadata": {
    "collapsed": true
   },
   "outputs": [],
   "source": [
    "def process_attempt_history(payload):\n",
    "    try:\n",
    "        jsonObject = json.loads(payload)\n",
    "        global attempt_history_df\n",
    "        completed = jsonObject.get('completed', None)\n",
    "        summary = jsonObject.get('summary')\n",
    "        isSbs = None\n",
    "        started = None\n",
    "        startTime = jsonObject.get('startTime', None)\n",
    "        if summary != None:\n",
    "            isSbs = summary.get('stepByStepHelpEnabled')\n",
    "            started = summary.get('started', None)\n",
    "\n",
    "        attemptTreePath = jsonObject.get('attemptTreePath', None)\n",
    "\n",
    "        attempt_history_df = attempt_history_df.append([{'type': jsonObject[u'type'],\n",
    "                                         'id': jsonObject[u'id'],\n",
    "                                         'scored': jsonObject[u'scored'],\n",
    "                                         'cgid': jsonObject[u'cgid'],\n",
    "                                         'completed': completed,\n",
    "                                         'isSbs': isSbs,\n",
    "                                         'started': started,\n",
    "                                         'startTime': startTime,\n",
    "                                         'attemptTreePath': attemptTreePath,\n",
    "                                         'duedate': jsonObject['initParams'][u'dueDate']\n",
    "                                         }], ignore_index=True)\n",
    "    except ValueError:\n",
    "        print(\"error\")\n"
   ]
  },
  {
   "cell_type": "code",
   "execution_count": 41,
   "metadata": {},
   "outputs": [],
   "source": [
    "def process_componentinstance(payload):\n",
    "    try:\n",
    "        global componentinstance_df\n",
    "        payload_as_json = json.loads(payload)\n",
    "        json_object = payload_as_json['instanceJson']\n",
    "        componentinstance_df = componentinstance_df.append([{'type': json_object[u'_type'],\n",
    "                                       'id': json_object[u'_id']\n",
    "                                       }], ignore_index=True)\n",
    "    except ValueError:\n",
    "        print(\"error\")\n"
   ]
  },
  {
   "cell_type": "code",
   "execution_count": 55,
   "metadata": {
    "collapsed": true
   },
   "outputs": [],
   "source": [
    "def process_attempt(payload):\n",
    "    try:\n",
    "        jsonObject = json.loads(payload)\n",
    "        global attempt_df\n",
    "        completed =  jsonObject.get('completed', None)\n",
    "        summary = jsonObject.get('summary')\n",
    "        isSbs = None\n",
    "        started = None\n",
    "        startTime = jsonObject.get('startTime', None)\n",
    "        if summary != None :\n",
    "            isSbs = summary.get('stepByStepHelpEnabled')\n",
    "            started = summary.get('started', None)\n",
    "            \n",
    "        attemptTreePath =  jsonObject.get('attemptTreePath', None)\n",
    "        \n",
    "        attempt_df = attempt_df.append([{'type':jsonObject[u'type'], \n",
    "                                'id':jsonObject[u'id'],\n",
    "                                'scored':jsonObject[u'scored'],\n",
    "                                'cgid':jsonObject[u'cgid'],\n",
    "                                'completed':completed,\n",
    "                                'isSbs' : isSbs,\n",
    "                                'started' : started,\n",
    "                                'startTime' : startTime,\n",
    "                                'attemptTreePath' : attemptTreePath,\n",
    "                                'duedate':jsonObject['initParams'][u'dueDate']\n",
    "                              }], ignore_index=True)\n",
    "    except ValueError:\n",
    "        print(\"error\")"
   ]
  },
  {
   "cell_type": "code",
   "execution_count": 75,
   "metadata": {},
   "outputs": [],
   "source": [
    "def process_interaction(payload):\n",
    "    try:\n",
    "        jsonObject = json.loads(payload)\n",
    "        global interaction_df\n",
    "        interaction_df = interaction_df.append([{'attemptId': jsonObject[u'attemptId'],\n",
    "                                                 'id': jsonObject[u'id']\n",
    "                                                 }], ignore_index=True)\n",
    "    except ValueError:\n",
    "        print(\"error\")\n"
   ]
  },
  {
   "cell_type": "code",
   "execution_count": 80,
   "metadata": {},
   "outputs": [
    {
     "name": "stdout",
     "output_type": "stream",
     "text": [
      "select * from interaction;\n"
     ]
    },
    {
     "data": {
      "text/html": [
       "<div>\n",
       "<style>\n",
       "    .dataframe thead tr:only-child th {\n",
       "        text-align: right;\n",
       "    }\n",
       "\n",
       "    .dataframe thead th {\n",
       "        text-align: left;\n",
       "    }\n",
       "\n",
       "    .dataframe tbody tr th {\n",
       "        vertical-align: top;\n",
       "    }\n",
       "</style>\n",
       "<table border=\"1\" class=\"dataframe\">\n",
       "  <thead>\n",
       "    <tr style=\"text-align: right;\">\n",
       "      <th></th>\n",
       "      <th>attemptId</th>\n",
       "      <th>id</th>\n",
       "    </tr>\n",
       "  </thead>\n",
       "  <tbody>\n",
       "    <tr>\n",
       "      <th>0</th>\n",
       "      <td>8e5958d4-015f-1000-0003-2cd1b8364cc8</td>\n",
       "      <td>94a46738-015f-1000-0000-92049f0c3558</td>\n",
       "    </tr>\n",
       "  </tbody>\n",
       "</table>\n",
       "</div>"
      ],
      "text/plain": [
       "                              attemptId                                    id\n",
       "0  8e5958d4-015f-1000-0003-2cd1b8364cc8  94a46738-015f-1000-0000-92049f0c3558"
      ]
     },
     "execution_count": 80,
     "metadata": {},
     "output_type": "execute_result"
    }
   ],
   "source": [
    "import pandas as pd\n",
    "import json\n",
    "from cassandra.auth import PlainTextAuthProvider\n",
    "from cassandra.cluster import Cluster\n",
    "import pydash\n",
    "\n",
    "componentinstance_df = pd.DataFrame()\n",
    "attempt_df = pd.DataFrame()\n",
    "attempt_history_df = pd.DataFrame()\n",
    "attemptreview_df = pd.DataFrame()\n",
    "interaction_df = pd.DataFrame()\n",
    "\n",
    "\n",
    "def process_table(table_name, session, pd):\n",
    "    select_query = 'select * from {};'.format(table_name)\n",
    "    print(select_query)\n",
    "    rows = session.execute(select_query)\n",
    "    df = pd.DataFrame(list(rows))\n",
    "    if table_name == 'componentinstance':\n",
    "        df.payload.apply(process_componentinstance)\n",
    "    elif table_name == 'attempt':\n",
    "        df.payload.apply(process_attempt)\n",
    "    elif table_name == 'attempt_history':\n",
    "        df.payload.apply(process_attempt_history)\n",
    "    elif table_name == 'attemptreview':\n",
    "        df.payload.apply(process_attemptreview)\n",
    "    elif table_name == 'interaction':\n",
    "        df.payload.apply(process_interaction)\n",
    "\n",
    "\n",
    "def loop_all_tables():\n",
    "    ap = PlainTextAuthProvider(username='cassandra', password='cassandra')\n",
    "    cluster = Cluster(protocol_version=3, auth_provider=ap)\n",
    "    session = cluster.connect('cas_localhost')\n",
    "#     process_table('componentinstance', session, pd)\n",
    "#     process_table('attempt_history', session, pd)\n",
    "#     process_table('attemptreview', session, pd)\n",
    "#     process_table('attempt', session, pd)\n",
    "    process_table('interaction', session, pd)\n",
    "\n",
    "\n",
    "\n",
    "loop_all_tables()\n",
    "# componentinstance_df\n",
    "# attempt_df\n",
    "# attempt_history_df\n",
    "# attemptreview_df\n",
    "interaction_df\n"
   ]
  }
 ],
 "metadata": {
  "kernelspec": {
   "display_name": "Python 3",
   "language": "python",
   "name": "python3"
  },
  "language_info": {
   "codemirror_mode": {
    "name": "ipython",
    "version": 3
   },
   "file_extension": ".py",
   "mimetype": "text/x-python",
   "name": "python",
   "nbconvert_exporter": "python",
   "pygments_lexer": "ipython3",
   "version": "3.6.1"
  }
 },
 "nbformat": 4,
 "nbformat_minor": 2
}
