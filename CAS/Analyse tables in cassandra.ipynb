{
 "cells": [
  {
   "cell_type": "markdown",
   "metadata": {},
   "source": [
    "### analyse the data in CAS tables\n",
    "    - get number of records in cas tables\n",
    "    "
   ]
  },
  {
   "cell_type": "code",
   "execution_count": 5,
   "metadata": {},
   "outputs": [
    {
     "name": "stdout",
     "output_type": "stream",
     "text": [
      "activity_spec count : 29\n",
      "attempt count : 33\n",
      "attempt_history count : 57\n",
      "attemptreview count : 0\n",
      "componentinstance count : 4\n",
      "interaction count : 13\n",
      "interaction_history count : 3\n",
      "item_spec count : 0\n",
      "settings_deploy_status_by_checkpoint count : 1\n",
      "settings_spec count : 26\n",
      "specs_by_cgid_checkpoint_cache count : 29\n",
      "specs_by_revision_platform_cache count : 55\n",
      "specs_by_settingskey_checkpoint_type_cache count : 26\n",
      "uploaded_checkpoint count : 0\n",
      "uploaded_revision count : 0\n",
      "uploaded_revisions_by_cgid_checkpoint count : 0\n",
      "uploaded_revisions_by_checkpoint count : 0\n",
      "uploaded_spec count : 0\n",
      "uploaded_xml count : 0\n"
     ]
    }
   ],
   "source": [
    "import pandas as pd\n",
    "import json\n",
    "from cassandra.auth import PlainTextAuthProvider\n",
    "from cassandra.cluster import Cluster\n",
    "import pydash\n",
    "\n",
    "\n",
    "def process_each_table(tableName, session):\n",
    "    select_query = 'select * from {};'.format(tableName)\n",
    "    # to delete all the tables\n",
    "    # select_query = 'truncate {}'.format(tableName)\n",
    "    rows = session.execute(select_query)\n",
    "    df = pd.DataFrame(list(rows))\n",
    "    print('{} count : {}'.format(tableName, len(df)))\n",
    "\n",
    "\n",
    "def loop_all_tables():\n",
    "    ap = PlainTextAuthProvider(username='cassandra', password='cassandra')\n",
    "    cluster = Cluster(protocol_version=3, auth_provider=ap)\n",
    "    session = cluster.connect('cas_localhost')\n",
    "    tables = cluster.metadata.keyspaces['cas_localhost'].tables\n",
    "    items = list(tables.keys())\n",
    "    # print(type(items))\n",
    "    pydash.chain(items).for_each(lambda x: process_each_table(x, session)).value()\n",
    "    # print(type(tables))\n",
    "    \n",
    "loop_all_tables()\n"
   ]
  },
  {
   "cell_type": "code",
   "execution_count": null,
   "metadata": {
    "collapsed": true
   },
   "outputs": [],
   "source": []
  }
 ],
 "metadata": {
  "kernelspec": {
   "display_name": "Python 3",
   "language": "python",
   "name": "python3"
  },
  "language_info": {
   "codemirror_mode": {
    "name": "ipython",
    "version": 3
   },
   "file_extension": ".py",
   "mimetype": "text/x-python",
   "name": "python",
   "nbconvert_exporter": "python",
   "pygments_lexer": "ipython3",
   "version": "3.6.1"
  }
 },
 "nbformat": 4,
 "nbformat_minor": 2
}
